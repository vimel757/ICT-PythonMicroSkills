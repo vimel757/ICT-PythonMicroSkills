{
 "cells": [
  {
   "cell_type": "markdown",
   "id": "704bfe10",
   "metadata": {},
   "source": [
    "# QUESTION 1"
   ]
  },
  {
   "cell_type": "code",
   "execution_count": 30,
   "id": "9409fe6c",
   "metadata": {},
   "outputs": [
    {
     "name": "stdout",
     "output_type": "stream",
     "text": [
      "enter a number between 1 and 10:1\n",
      "Too low! Try again.\n",
      "enter a number between 1 and 10:6\n",
      "Too high! Try again.\n",
      "enter a number between 1 and 10:4\n",
      "Too high! Try again.\n",
      "enter a number between 1 and 10:3\n",
      "Too high! Try again.\n",
      "enter a number between 1 and 10:2\n",
      "Congratulations! You guessed the number correctly!\n"
     ]
    }
   ],
   "source": [
    "import random\n",
    "secretNumber=random.randint(1,10)\n",
    "while True:\n",
    "    guess=int(input(\"enter a number between 1 and 10:\"))\n",
    "    if secretNumber==guess:\n",
    "        print(\"Congratulations! You guessed the number correctly!\")\n",
    "        break\n",
    "    if guess>secretNumber:\n",
    "        print(\"Too high! Try again.\")\n",
    "    else:\n",
    "        print(\"Too low! Try again.\")\n"
   ]
  },
  {
   "cell_type": "markdown",
   "id": "8b145ef6",
   "metadata": {},
   "source": [
    "# QUESTION 2"
   ]
  },
  {
   "cell_type": "code",
   "execution_count": 31,
   "id": "2e44a0f8",
   "metadata": {},
   "outputs": [
    {
     "name": "stdout",
     "output_type": "stream",
     "text": [
      "Enter a number: 5\n",
      "The factorial of is 120\n"
     ]
    }
   ],
   "source": [
    "num = int(input(\"Enter a number: \"))\n",
    "factorial = 1\n",
    "if num < 0:\n",
    "   print(\"Sorry, factorial does not exist for negative numbers\")\n",
    "elif num == 0:\n",
    "   print(\"The factorial of 0 is 1\")\n",
    "else:\n",
    "   for i in range(1,num + 1):\n",
    "       factorial = factorial*i\n",
    "   print(\"The factorial of is\",factorial)"
   ]
  },
  {
   "cell_type": "markdown",
   "id": "622c65f4",
   "metadata": {},
   "source": [
    "# QUESTION 3 PROFILE PIC ON FACEBOOK"
   ]
  },
  {
   "cell_type": "code",
   "execution_count": 17,
   "id": "4d5dcb5e",
   "metadata": {},
   "outputs": [
    {
     "name": "stdout",
     "output_type": "stream",
     "text": [
      "Enter the Length 4\n",
      "Enter the Number of photos2\n",
      "Width of the photo2\n",
      "Heigth of the photo2\n",
      "Width of the photo2\n",
      "Heigth of the photo2\n",
      "ACCEPTED\n"
     ]
    }
   ],
   "source": [
    "L=int(input(\"Enter the Length \"))\n",
    "N=int(input(\"Enter the Number of photos\"))\n",
    "for i in range(N):\n",
    "    W=int(input(\"Width of the photo\"))\n",
    "    H=int(input(\"Heigth of the photo\"))\n",
    "if L<W and L<H:\n",
    "    print(\"UPLOAD ANOTHER\")\n",
    "elif W==H:\n",
    "    print(\"ACCEPTED\")\n",
    "else:\n",
    "    print(\"CROP IT\")"
   ]
  }
 ],
 "metadata": {
  "kernelspec": {
   "display_name": "Python 3 (ipykernel)",
   "language": "python",
   "name": "python3"
  },
  "language_info": {
   "codemirror_mode": {
    "name": "ipython",
    "version": 3
   },
   "file_extension": ".py",
   "mimetype": "text/x-python",
   "name": "python",
   "nbconvert_exporter": "python",
   "pygments_lexer": "ipython3",
   "version": "3.10.9"
  }
 },
 "nbformat": 4,
 "nbformat_minor": 5
}
